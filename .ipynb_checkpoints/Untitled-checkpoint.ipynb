{
 "cells": [
  {
   "cell_type": "markdown",
   "id": "27bf88ae",
   "metadata": {},
   "source": [
    "Libaries"
   ]
  },
  {
   "cell_type": "code",
   "execution_count": 1,
   "id": "fca42075",
   "metadata": {},
   "outputs": [],
   "source": [
    "import numpy as np\n",
    "import pandas as pd\n",
    "import os\n",
    "import matplotlib.pyplot as plt\n",
    "import soundfile as sf\n",
    "import librosa\n",
    "import librosa.display\n",
    "import IPython.display as display\n",
    "import tensorflow as tf\n",
    "\n",
    "from sklearn.model_selection import train_test_split\n",
    "\n",
    "from tensorflow.keras.utils import Sequence\n",
    "\n",
    "from tensorflow.keras.models import Sequential\n",
    "from tensorflow.keras.layers import Dense, Dropout, Flatten, Conv1D, MaxPool1D, BatchNormalization\n",
    "from tensorflow.keras.optimizers import RMSprop,Adam\n",
    "from tensorflow.keras.applications import VGG19, VGG16, ResNet50\n",
    "\n",
    "import warnings\n",
    "warnings.filterwarnings(\"ignore\")"
   ]
  },
  {
   "cell_type": "code",
   "execution_count": 2,
   "id": "cf072a49",
   "metadata": {},
   "outputs": [],
   "source": [
    "path = \"birdclef/\"\n"
   ]
  },
  {
   "cell_type": "code",
   "execution_count": 3,
   "id": "0c451a7f",
   "metadata": {},
   "outputs": [],
   "source": [
    "model = tf.keras.models.load_model(path + \"models/model2\")"
   ]
  },
  {
   "cell_type": "code",
   "execution_count": 4,
   "id": "8ef55778",
   "metadata": {},
   "outputs": [],
   "source": [
    "data, samplerate = sf.read(path + \"train_soundscapes/18003_COR_20190904.ogg\")"
   ]
  },
  {
   "cell_type": "code",
   "execution_count": 5,
   "id": "0f9294d7",
   "metadata": {},
   "outputs": [
    {
     "data": {
      "text/plain": [
       "600"
      ]
     },
     "execution_count": 5,
     "metadata": {},
     "output_type": "execute_result"
    }
   ],
   "source": [
    "len(data) // samplerate"
   ]
  },
  {
   "cell_type": "code",
   "execution_count": 6,
   "id": "a5808458",
   "metadata": {},
   "outputs": [],
   "source": [
    "input_data = data.reshape((240,100,800))"
   ]
  },
  {
   "cell_type": "code",
   "execution_count": null,
   "id": "211feae0",
   "metadata": {},
   "outputs": [],
   "source": []
  },
  {
   "cell_type": "code",
   "execution_count": 7,
   "id": "a7f6e7fd",
   "metadata": {},
   "outputs": [],
   "source": [
    "bird_list = ['grhcha1','swaspa', 'nocall', 'orfpar', 'plawre1', 'bkcchi', 'eastow',\n",
    " 'balori', 'crfpar', 'comyel', 'clcrob', 'rtlhum', 'orcpar', 'dowwoo', 'grekis', 'yehcar1', 'rucwar', 'haiwoo', 'norwat', 'bobfly1', 'belkin1',\n",
    " 'norcar', 'yebsap', 'hofwoo1', 'amegfi', 'runwre1', 'chswar', 'woothr', 'brnjay', 'grycat', 'ovenbi1', 'amecro', 'blujay',\n",
    " 'sthwoo1', 'reevir1', 'cangoo', 'melbla1', 'amerob', 'comgra', 'norfli', 'eawpew', 'whcpar', 'gockin', 'rewbla', 'obnthr1',\n",
    " 'bucmot2', 'sonspa', 'rubwre1', 'rebwoo']"
   ]
  },
  {
   "cell_type": "code",
   "execution_count": 8,
   "id": "2da6ee66",
   "metadata": {},
   "outputs": [],
   "source": [
    "def predict_bird(X):\n",
    "    prediction = model.predict(X)\n",
    "    output = []\n",
    "    for i in range (0, len(prediction)):\n",
    "        order = sorted(list(zip(bird_list, prediction[i])), key=lambda x: x[1])\n",
    "        order.reverse()\n",
    "        output.append(order[:5])\n",
    "    return output"
   ]
  },
  {
   "cell_type": "code",
   "execution_count": 9,
   "id": "0165b436",
   "metadata": {},
   "outputs": [
    {
     "data": {
      "text/plain": [
       "[[('orfpar', 0.9505819),\n",
       "  ('crfpar', 0.7007811),\n",
       "  ('woothr', 0.53545207),\n",
       "  ('runwre1', 0.19907174),\n",
       "  ('haiwoo', 0.0865365)],\n",
       " [('orfpar', 0.9476228),\n",
       "  ('crfpar', 0.6908279),\n",
       "  ('woothr', 0.54139715),\n",
       "  ('runwre1', 0.1933569),\n",
       "  ('haiwoo', 0.09781781)]]"
      ]
     },
     "execution_count": 9,
     "metadata": {},
     "output_type": "execute_result"
    }
   ],
   "source": [
    "predict_bird(input_data[1:3])"
   ]
  },
  {
   "cell_type": "code",
   "execution_count": null,
   "id": "cb065467",
   "metadata": {},
   "outputs": [],
   "source": []
  }
 ],
 "metadata": {
  "kernelspec": {
   "display_name": "Python 3",
   "language": "python",
   "name": "python3"
  },
  "language_info": {
   "codemirror_mode": {
    "name": "ipython",
    "version": 3
   },
   "file_extension": ".py",
   "mimetype": "text/x-python",
   "name": "python",
   "nbconvert_exporter": "python",
   "pygments_lexer": "ipython3",
   "version": "3.8.8"
  }
 },
 "nbformat": 4,
 "nbformat_minor": 5
}
