{
 "cells": [
  {
   "cell_type": "code",
   "execution_count": 1,
   "id": "ead98b17",
   "metadata": {},
   "outputs": [],
   "source": [
    "import os\n",
    "\n",
    "import warnings\n",
    "warnings.filterwarnings(action='ignore')\n",
    "\n",
    "import pandas as pd\n",
    "import librosa\n",
    "import numpy as np\n",
    "\n",
    "from sklearn.utils import shuffle\n",
    "from PIL import Image\n",
    "from tqdm import tqdm\n",
    "import matplotlib.pyplot as plt\n",
    "\n",
    "from sklearn.metrics import confusion_matrix\n",
    "\n",
    "import imageio\n",
    "import glob\n",
    "from collections import Counter\n",
    "from matplotlib.pyplot import hist\n",
    "\n",
    "import matplotlib.pyplot as plt\n",
    "\n",
    "import tensorflow as tf"
   ]
  },
  {
   "cell_type": "markdown",
   "id": "d947dcbf",
   "metadata": {},
   "source": [
    "Paths, Spectrogram Variables"
   ]
  },
  {
   "cell_type": "code",
   "execution_count": 2,
   "id": "d7c59f2c",
   "metadata": {},
   "outputs": [],
   "source": [
    "path = 'birdclef/'\n",
    "path_train_meta = path + 'train_metadata.csv'\n",
    "path_train_soundscape = path + 'train_soundscape_labels.csv'\n",
    "input_dir = path + 'train_short_audio/'\n",
    "output_dir = 'working/melspectrogram_dataset/'\n",
    "\n",
    "SAMPLE_RATE = 32000\n",
    "SIGNAL_LENGTH = 5 # seconds\n",
    "SPEC_SHAPE = (48, 128) # height x width\n",
    "FMIN = 500\n",
    "FMAX = 12500\n",
    "dimension = (48, 128, 1)\n",
    "SPEC_SHAPE = (48, 128)\n",
    "random_seed = 666\n",
    "\n",
    "model_name = 'models/lowTrained.h5'"
   ]
  },
  {
   "cell_type": "markdown",
   "id": "84c6e43b",
   "metadata": {},
   "source": [
    "Prepare List of Birds which are trained"
   ]
  },
  {
   "cell_type": "code",
   "execution_count": 3,
   "id": "8c597872",
   "metadata": {},
   "outputs": [],
   "source": [
    "#soundscape ids controls which birds are taken from dataset \n",
    "soundscapes_ids = [28933, 42907]\n",
    "soundscapes = pd.read_csv('birdclef/train_soundscape_labels.csv',)\n",
    "soundscapes = soundscapes.query('audio_id in @soundscapes_ids')\n",
    "names = pd.unique(soundscapes['birds'])\n",
    "\n",
    "bird_list = []\n",
    "for i in range (0, len(names)):\n",
    "    split = names[i].split(' ')\n",
    "    bird_list = np.append(bird_list, split)\n",
    "    \n",
    "bird_list = np.unique(bird_list)\n",
    "bird_list = list(bird_list)\n",
    "bird_list.remove('nocall')"
   ]
  },
  {
   "cell_type": "markdown",
   "id": "b6db851b",
   "metadata": {},
   "source": [
    "Load Data"
   ]
  },
  {
   "cell_type": "code",
   "execution_count": 4,
   "id": "ebff5f36",
   "metadata": {},
   "outputs": [
    {
     "name": "stderr",
     "output_type": "stream",
     "text": [
      " 84%|████████▎ | 16291/19500 [13:48<02:43, 19.66it/s] \n"
     ]
    }
   ],
   "source": [
    "#bird_list = ['amerob', 'blujay', 'cangoo', 'gockin', 'norcar', 'rewbla', 'sonspa', 'swaspa']\n",
    "data = []\n",
    "labels = []\n",
    "\n",
    "distribution = [(bird, 0) for bird in bird_list]\n",
    "\n",
    "#specify the maximum of how many 5 second slides are taken to the train dataset for one bird\n",
    "num_spec_slices = 1500\n",
    "\n",
    "\n",
    "csv = pd.read_csv('birdclef/train_metadata.csv',)\n",
    "csv = csv.query('rating>=4')\n",
    "csv = csv.query('primary_label in @bird_list')\n",
    "\n",
    "csv_array = np.array(csv)\n",
    "\n",
    "old_bird_name = \"\"\n",
    "counter = 0\n",
    "\n",
    "with tqdm(total=len(bird_list)*num_spec_slices) as pbar:\n",
    "    #Go through lines of csv file\n",
    "    for i in range(0, len(csv)):      \n",
    "        bird_name = csv_array[i][0]\n",
    "        filename = csv_array[i][9][:-4]\n",
    "        index = bird_list.index(bird_name)\n",
    "        \n",
    "        if bird_name != old_bird_name:\n",
    "            counter = 0\n",
    "        old_bird_name = bird_name\n",
    "        \n",
    "        if counter >= num_spec_slices:\n",
    "            continue\n",
    "        \n",
    "        #Go through working directory and select 5s slices which belongs to actual audio file from csv\n",
    "        for spec in glob.glob(output_dir + bird_name + \"/\" + filename + \"*\"):\n",
    "            if counter >= num_spec_slices:\n",
    "                break           \n",
    "            im = imageio.imread(spec)\n",
    "            im = np.resize(im, dimension)\n",
    "            data.append(im)\n",
    "            zeros = np.zeros(len(bird_list))\n",
    "            zeros[index] = 1\n",
    "            labels.append(zeros)\n",
    "            counter += 1\n",
    "            pbar.update(1) "
   ]
  },
  {
   "cell_type": "code",
   "execution_count": null,
   "id": "5323dc51",
   "metadata": {},
   "outputs": [],
   "source": []
  },
  {
   "cell_type": "code",
   "execution_count": 5,
   "id": "b14b64b4",
   "metadata": {},
   "outputs": [],
   "source": [
    "data = shuffle(data, random_state=random_seed)\n",
    "labels = shuffle(labels, random_state=random_seed)"
   ]
  },
  {
   "cell_type": "code",
   "execution_count": 6,
   "id": "a4ea8e49",
   "metadata": {},
   "outputs": [
    {
     "name": "stdout",
     "output_type": "stream",
     "text": [
      "MODEL HAS 500733 PARAMETERS.\n"
     ]
    }
   ],
   "source": [
    "# Make sure your experiments are reproducible\n",
    "tf.random.set_seed(random_seed)\n",
    "\n",
    "# Build a simple model as a sequence of  convolutional blocks.\n",
    "# Each block has the sequence CONV --> RELU --> BNORM --> MAXPOOL.\n",
    "# Finally, perform global average pooling and add 2 dense layers.\n",
    "# The last layer is our classification layer and is softmax activated.\n",
    "# (Well it's a multi-label task so sigmoid might actually be a better choice)\n",
    "model = tf.keras.Sequential([\n",
    "    \n",
    "    # First conv block\n",
    "    tf.keras.layers.Conv2D(16, (3, 3), activation='relu', \n",
    "                           input_shape=(SPEC_SHAPE[0], SPEC_SHAPE[1], 1)),\n",
    "    tf.keras.layers.BatchNormalization(),    \n",
    "    tf.keras.layers.Conv2D(16, (3, 3), activation='relu'),\n",
    "    tf.keras.layers.BatchNormalization(),\n",
    "    tf.keras.layers.MaxPooling2D((2, 2)),\n",
    " \n",
    "        \n",
    "    # Second conv block\n",
    "    tf.keras.layers.Conv2D(32, (3, 3), activation='relu'),\n",
    "    tf.keras.layers.BatchNormalization(),\n",
    "    tf.keras.layers.Conv2D(32, (3, 3), activation='relu'),\n",
    "    tf.keras.layers.BatchNormalization(),\n",
    "    tf.keras.layers.MaxPooling2D((2, 2)),\n",
    "    \n",
    "    # Third conv block\n",
    "    tf.keras.layers.Conv2D(64, (3, 3), activation='relu'),\n",
    "    tf.keras.layers.BatchNormalization(),\n",
    "    tf.keras.layers.Conv2D(64, (3, 3), activation='relu'),\n",
    "    tf.keras.layers.BatchNormalization(),\n",
    "    tf.keras.layers.MaxPooling2D((2, 2)), \n",
    "    \n",
    "\n",
    "    \n",
    "    # Global pooling instead of flatten()\n",
    "    tf.keras.layers.Flatten(), \n",
    "    \n",
    "    # Dense block\n",
    "    tf.keras.layers.Dense(256, activation='relu'),   \n",
    "    tf.keras.layers.Dropout(0.5),      \n",
    "    tf.keras.layers.Dense(128, activation='relu'),   \n",
    "    tf.keras.layers.Dropout(0.5),  \n",
    "    \n",
    "    # Classification layer\n",
    "    tf.keras.layers.Dense(len(bird_list), activation='softmax')\n",
    "])\n",
    "print('MODEL HAS {} PARAMETERS.'.format(model.count_params()))"
   ]
  },
  {
   "cell_type": "code",
   "execution_count": 7,
   "id": "f1bf5b8c",
   "metadata": {},
   "outputs": [
    {
     "name": "stdout",
     "output_type": "stream",
     "text": [
      "Model: \"sequential\"\n",
      "_________________________________________________________________\n",
      "Layer (type)                 Output Shape              Param #   \n",
      "=================================================================\n",
      "conv2d (Conv2D)              (None, 46, 126, 16)       160       \n",
      "_________________________________________________________________\n",
      "batch_normalization (BatchNo (None, 46, 126, 16)       64        \n",
      "_________________________________________________________________\n",
      "conv2d_1 (Conv2D)            (None, 44, 124, 16)       2320      \n",
      "_________________________________________________________________\n",
      "batch_normalization_1 (Batch (None, 44, 124, 16)       64        \n",
      "_________________________________________________________________\n",
      "max_pooling2d (MaxPooling2D) (None, 22, 62, 16)        0         \n",
      "_________________________________________________________________\n",
      "conv2d_2 (Conv2D)            (None, 20, 60, 32)        4640      \n",
      "_________________________________________________________________\n",
      "batch_normalization_2 (Batch (None, 20, 60, 32)        128       \n",
      "_________________________________________________________________\n",
      "conv2d_3 (Conv2D)            (None, 18, 58, 32)        9248      \n",
      "_________________________________________________________________\n",
      "batch_normalization_3 (Batch (None, 18, 58, 32)        128       \n",
      "_________________________________________________________________\n",
      "max_pooling2d_1 (MaxPooling2 (None, 9, 29, 32)         0         \n",
      "_________________________________________________________________\n",
      "conv2d_4 (Conv2D)            (None, 7, 27, 64)         18496     \n",
      "_________________________________________________________________\n",
      "batch_normalization_4 (Batch (None, 7, 27, 64)         256       \n",
      "_________________________________________________________________\n",
      "conv2d_5 (Conv2D)            (None, 5, 25, 64)         36928     \n",
      "_________________________________________________________________\n",
      "batch_normalization_5 (Batch (None, 5, 25, 64)         256       \n",
      "_________________________________________________________________\n",
      "max_pooling2d_2 (MaxPooling2 (None, 2, 12, 64)         0         \n",
      "_________________________________________________________________\n",
      "flatten (Flatten)            (None, 1536)              0         \n",
      "_________________________________________________________________\n",
      "dense (Dense)                (None, 256)               393472    \n",
      "_________________________________________________________________\n",
      "dropout (Dropout)            (None, 256)               0         \n",
      "_________________________________________________________________\n",
      "dense_1 (Dense)              (None, 128)               32896     \n",
      "_________________________________________________________________\n",
      "dropout_1 (Dropout)          (None, 128)               0         \n",
      "_________________________________________________________________\n",
      "dense_2 (Dense)              (None, 13)                1677      \n",
      "=================================================================\n",
      "Total params: 500,733\n",
      "Trainable params: 500,285\n",
      "Non-trainable params: 448\n",
      "_________________________________________________________________\n"
     ]
    }
   ],
   "source": [
    "model.summary()"
   ]
  },
  {
   "cell_type": "markdown",
   "id": "39758bca",
   "metadata": {},
   "source": [
    "Hyperparameters"
   ]
  },
  {
   "cell_type": "code",
   "execution_count": 8,
   "id": "11da7b43",
   "metadata": {},
   "outputs": [],
   "source": [
    "lr = 0.001\n",
    "label_smoothing = 0.1\n",
    "batch_size = 32"
   ]
  },
  {
   "cell_type": "code",
   "execution_count": 9,
   "id": "c8d46b99",
   "metadata": {},
   "outputs": [],
   "source": [
    "model.compile(optimizer=tf.keras.optimizers.Adam(lr=lr),\n",
    "              loss=tf.keras.losses.CategoricalCrossentropy(label_smoothing=label_smoothing),\n",
    "              metrics=['accuracy'])"
   ]
  },
  {
   "cell_type": "code",
   "execution_count": 10,
   "id": "34b02f19",
   "metadata": {},
   "outputs": [],
   "source": [
    "callbacks = [tf.keras.callbacks.ReduceLROnPlateau(monitor='val_loss', \n",
    "                                                  patience=1, \n",
    "                                                  verbose=1, \n",
    "                                                  factor=0.5),\n",
    "             tf.keras.callbacks.EarlyStopping(monitor='val_loss', \n",
    "                                              verbose=1,\n",
    "                                              patience=2),\n",
    "             tf.keras.callbacks.ModelCheckpoint(filepath=model_name, \n",
    "                                                monitor='val_loss',\n",
    "                                                verbose=0,\n",
    "                                                save_best_only=True)]"
   ]
  },
  {
   "cell_type": "code",
   "execution_count": 11,
   "id": "fd8d3fb6",
   "metadata": {},
   "outputs": [
    {
     "name": "stdout",
     "output_type": "stream",
     "text": [
      "Epoch 1/8\n",
      "408/408 [==============================] - 42s 101ms/step - loss: 2.4373 - accuracy: 0.2164 - val_loss: 2.0851 - val_accuracy: 0.3670\n",
      "Epoch 2/8\n",
      "408/408 [==============================] - 41s 99ms/step - loss: 2.0135 - accuracy: 0.3929 - val_loss: 1.8067 - val_accuracy: 0.5143\n",
      "Epoch 3/8\n",
      "408/408 [==============================] - 41s 101ms/step - loss: 1.7818 - accuracy: 0.5164 - val_loss: 1.6206 - val_accuracy: 0.5873\n",
      "Epoch 4/8\n",
      "408/408 [==============================] - 40s 99ms/step - loss: 1.6349 - accuracy: 0.5947 - val_loss: 1.5794 - val_accuracy: 0.6072\n",
      "Epoch 5/8\n",
      "408/408 [==============================] - 41s 101ms/step - loss: 1.5201 - accuracy: 0.6479 - val_loss: 1.4526 - val_accuracy: 0.6573\n",
      "Epoch 6/8\n",
      "408/408 [==============================] - 41s 100ms/step - loss: 1.4229 - accuracy: 0.6878 - val_loss: 1.2905 - val_accuracy: 0.7469\n",
      "Epoch 7/8\n",
      "408/408 [==============================] - 41s 100ms/step - loss: 1.3393 - accuracy: 0.7310 - val_loss: 1.3748 - val_accuracy: 0.6953\n",
      "\n",
      "Epoch 00007: ReduceLROnPlateau reducing learning rate to 0.0005000000237487257.\n",
      "Epoch 8/8\n",
      "408/408 [==============================] - 41s 101ms/step - loss: 1.2188 - accuracy: 0.7847 - val_loss: 1.2662 - val_accuracy: 0.7456\n"
     ]
    },
    {
     "data": {
      "text/plain": [
       "<tensorflow.python.keras.callbacks.History at 0x7f18968eda90>"
      ]
     },
     "execution_count": 11,
     "metadata": {},
     "output_type": "execute_result"
    }
   ],
   "source": [
    "#model = tf.keras.models.load_model(model_name)\n",
    "model.fit(np.array(data), \n",
    "          np.array(labels),\n",
    "          batch_size=batch_size,\n",
    "          validation_split=0.2,\n",
    "          callbacks=callbacks,\n",
    "          workers=16,\n",
    "          epochs=8)"
   ]
  },
  {
   "cell_type": "code",
   "execution_count": 12,
   "id": "9ed8604c",
   "metadata": {},
   "outputs": [],
   "source": [
    "def prediction(arr):\n",
    "    return bird_list[np.argmax(arr)]"
   ]
  },
  {
   "cell_type": "markdown",
   "id": "352cf262",
   "metadata": {},
   "source": [
    "Prediction method: \n",
    "Insert index of train dataset and it predicts the bird "
   ]
  },
  {
   "cell_type": "code",
   "execution_count": 13,
   "id": "8e4b7071",
   "metadata": {},
   "outputs": [
    {
     "data": {
      "text/plain": [
       "('bkcchi',\n",
       " [('amecro', 3.8770094),\n",
       "  ('amegfi', 17.8301),\n",
       "  ('amerob', 3.5964952),\n",
       "  ('bkcchi', 9.691813),\n",
       "  ('blujay', 1.9118551),\n",
       "  ('cangoo', 2.1762674),\n",
       "  ('gockin', 4.207363),\n",
       "  ('norcar', 4.2288527),\n",
       "  ('reevir1', 2.5292282),\n",
       "  ('rewbla', 5.1718554),\n",
       "  ('sonspa', 17.566822),\n",
       "  ('swaspa', 24.976406),\n",
       "  ('yebsap', 2.2359228)])"
      ]
     },
     "execution_count": 13,
     "metadata": {},
     "output_type": "execute_result"
    }
   ],
   "source": [
    "def eval_prediction(index=0):\n",
    "    input_bird = np.resize(data[index], (1, 48, 128, 1))\n",
    "    result = list(zip(bird_list, model.predict(input_bird)[0]*100))\n",
    "    return (prediction(labels[index]), result)\n",
    "\n",
    "eval_prediction(200)"
   ]
  },
  {
   "cell_type": "markdown",
   "id": "e08a5fbf",
   "metadata": {},
   "source": [
    "Plot the distribution of the bird dataset"
   ]
  },
  {
   "cell_type": "code",
   "execution_count": 14,
   "id": "50b0e49e",
   "metadata": {},
   "outputs": [
    {
     "data": {
      "image/png": "[encoded data removed]",
      "text/plain": [
       "<Figure size 432x288 with 1 Axes>"
      ]
     },
     "metadata": {
      "needs_background": "light"
     },
     "output_type": "display_data"
    }
   ],
   "source": [
    "a = np.array(labels)\n",
    "unique, counts = np.unique(a, return_counts=True, axis=0)\n",
    "X = []\n",
    "for i in range(0, len(unique)):\n",
    "    X.append(prediction(unique[i]))\n",
    "\n",
    "\n",
    "plt.bar([x for x in range(0, len(counts))], counts, tick_label=X)\n",
    "plt.xticks(rotation=70)\n",
    "\n",
    "plt.show()"
   ]
  }
 ],
 "metadata": {
  "kernelspec": {
   "display_name": "Python 3",
   "language": "python",
   "name": "python3"
  },
  "language_info": {
   "codemirror_mode": {
    "name": "ipython",
    "version": 3
   },
   "file_extension": ".py",
   "mimetype": "text/x-python",
   "name": "python",
   "nbconvert_exporter": "python",
   "pygments_lexer": "ipython3",
   "version": "3.8.8"
  }
 },
 "nbformat": 4,
 "nbformat_minor": 5
}
