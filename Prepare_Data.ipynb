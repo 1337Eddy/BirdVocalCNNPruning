{
 "cells": [
  {
   "cell_type": "markdown",
   "id": "07e4100a",
   "metadata": {},
   "source": [
    "Imports"
   ]
  },
  {
   "cell_type": "code",
   "execution_count": 1,
   "id": "d851580c",
   "metadata": {},
   "outputs": [],
   "source": [
    "import os\n",
    "\n",
    "import warnings\n",
    "warnings.filterwarnings(action='ignore')\n",
    "\n",
    "import pandas as pd\n",
    "import librosa\n",
    "import numpy as np\n",
    "\n",
    "from sklearn.utils import shuffle\n",
    "from PIL import Image\n",
    "from tqdm import tqdm\n",
    "import matplotlib.pyplot as plt\n",
    "\n",
    "from sklearn.metrics import confusion_matrix\n",
    "\n",
    "import tensorflow as tf"
   ]
  },
  {
   "cell_type": "markdown",
   "id": "a8917edd",
   "metadata": {},
   "source": [
    "Paths"
   ]
  },
  {
   "cell_type": "code",
   "execution_count": 2,
   "id": "4f0db32d",
   "metadata": {},
   "outputs": [],
   "source": [
    "path = 'birdclef/'\n",
    "path_train_meta = path + 'train_metadata.csv'\n",
    "path_train_soundscape = path + 'train_soundscape_labels.csv'\n",
    "input_dir = path + 'train_short_audio/'\n",
    "output_dir = 'working/melspectrogram_dataset/'\n",
    "soundscape_output = 'working/soundscape_spectrogram'\n",
    "input_soundscapes = 'train_soundscapes/'"
   ]
  },
  {
   "cell_type": "markdown",
   "id": "d1be28ff",
   "metadata": {},
   "source": [
    "Spektrogram parameters"
   ]
  },
  {
   "cell_type": "code",
   "execution_count": 3,
   "id": "ae55ce9e",
   "metadata": {},
   "outputs": [],
   "source": [
    "\n",
    "SAMPLE_RATE = 32000\n",
    "SIGNAL_LENGTH = 5 # seconds\n",
    "SPEC_SHAPE = (48, 128) # height x width\n",
    "FMIN = 500\n",
    "FMAX = 12500"
   ]
  },
  {
   "cell_type": "markdown",
   "id": "e7e336da",
   "metadata": {},
   "source": [
    "Store Melspecs from all audio files in train data"
   ]
  },
  {
   "cell_type": "markdown",
   "id": "8a6cd3db",
   "metadata": {},
   "source": [
    "TRAIN = pd.read_csv(path_train_meta)\n",
    "print('Number of species in train data:', len(TRAIN['primary_label'].unique()))\n",
    "print('Number of samples in train data:', len(TRAIN))\n",
    "\n",
    "\n",
    "def get_spectrograms(filepath, primary_label, output_dir):\n",
    "    \n",
    "    # Open the file with librosa (limited to the first 15 seconds)\n",
    "    sig, rate = librosa.load(filepath, sr=SAMPLE_RATE, offset=None)\n",
    "    \n",
    "    # Split signal into five second chunks\n",
    "    sig_splits = []\n",
    "    for i in range(0, len(sig), int(SIGNAL_LENGTH * SAMPLE_RATE)):\n",
    "        split = sig[i:i + int(SIGNAL_LENGTH * SAMPLE_RATE)]\n",
    "\n",
    "        # End of signal?\n",
    "        if len(split) < int(SIGNAL_LENGTH * SAMPLE_RATE):\n",
    "            break\n",
    "        \n",
    "        sig_splits.append(split)\n",
    "        \n",
    "    # Extract mel spectrograms for each audio chunk\n",
    "    s_cnt = 0\n",
    "    saved_samples = []\n",
    "    for chunk in sig_splits:\n",
    "        \n",
    "        hop_length = int(SIGNAL_LENGTH * SAMPLE_RATE / (SPEC_SHAPE[1] - 1))\n",
    "        mel_spec = librosa.feature.melspectrogram(y=chunk, \n",
    "                                                  sr=SAMPLE_RATE, \n",
    "                                                  n_fft=1024, \n",
    "                                                  hop_length=hop_length, \n",
    "                                                  n_mels=SPEC_SHAPE[0], \n",
    "                                                  fmin=FMIN, \n",
    "                                                  fmax=FMAX)\n",
    "    \n",
    "        mel_spec = librosa.power_to_db(mel_spec, ref=np.max) \n",
    "        \n",
    "        # Normalize\n",
    "        mel_spec -= mel_spec.min()\n",
    "        mel_spec /= mel_spec.max()\n",
    "        \n",
    "        # Save as image file\n",
    "        save_dir = os.path.join(output_dir, primary_label)\n",
    "        if not os.path.exists(save_dir):\n",
    "            os.makedirs(save_dir)\n",
    "        save_path = os.path.join(save_dir, filepath.rsplit(os.sep, 1)[-1].rsplit('.', 1)[0] + \n",
    "                                 '_' + str(s_cnt) + '.png')\n",
    "        im = Image.fromarray(mel_spec * 255.0).convert(\"L\")\n",
    "        im.save(save_path)\n",
    "        \n",
    "        saved_samples.append(save_path)\n",
    "        s_cnt += 1\n",
    "               \n",
    "    return saved_samples\n",
    "\n",
    "\n",
    "with tqdm(total=len(TRAIN)) as pbar:\n",
    "    for idx, row in TRAIN.iterrows():\n",
    "        pbar.update(1)       \n",
    "        audio_file_path = os.path.join(input_dir, row.primary_label, row.filename)\n",
    "        get_spectrograms(audio_file_path, row.primary_label, output_dir)\n"
   ]
  },
  {
   "cell_type": "code",
   "execution_count": 8,
   "id": "499988a3",
   "metadata": {},
   "outputs": [
    {
     "name": "stderr",
     "output_type": "stream",
     "text": [
      "100%|██████████| 20/20 [00:18<00:00,  1.10it/s]\n"
     ]
    }
   ],
   "source": [
    "def get_spectrograms(filepath, primary_label, output_dir):\n",
    "    \n",
    "    # Open the file with librosa (limited to the first 15 seconds)\n",
    "    sig, rate = librosa.load(filepath, sr=SAMPLE_RATE, offset=None)\n",
    "    \n",
    "    # Split signal into five second chunks\n",
    "    sig_splits = []\n",
    "    for i in range(0, len(sig), int(SIGNAL_LENGTH * SAMPLE_RATE)):\n",
    "        split = sig[i:i + int(SIGNAL_LENGTH * SAMPLE_RATE)]\n",
    "\n",
    "        # End of signal?\n",
    "        if len(split) < int(SIGNAL_LENGTH * SAMPLE_RATE):\n",
    "            break\n",
    "        \n",
    "        sig_splits.append(split)\n",
    "        \n",
    "    # Extract mel spectrograms for each audio chunk\n",
    "    s_cnt = 0\n",
    "    saved_samples = []\n",
    "    for chunk in sig_splits:\n",
    "        \n",
    "        hop_length = int(SIGNAL_LENGTH * SAMPLE_RATE / (SPEC_SHAPE[1] - 1))\n",
    "        mel_spec = librosa.feature.melspectrogram(y=chunk, \n",
    "                                                  sr=SAMPLE_RATE, \n",
    "                                                  n_fft=1024, \n",
    "                                                  hop_length=hop_length, \n",
    "                                                  n_mels=SPEC_SHAPE[0], \n",
    "                                                  fmin=FMIN, \n",
    "                                                  fmax=FMAX)\n",
    "    \n",
    "        mel_spec = librosa.power_to_db(mel_spec, ref=np.max) \n",
    "        \n",
    "        # Normalize\n",
    "        mel_spec -= mel_spec.min()\n",
    "        mel_spec /= mel_spec.max()\n",
    "        \n",
    "        # Save as image file\n",
    "        save_dir = os.path.join(output_dir, primary_label)\n",
    "        if not os.path.exists(save_dir):\n",
    "            os.makedirs(save_dir)\n",
    "        save_path = os.path.join(save_dir, filepath.rsplit(os.sep, 1)[-1].rsplit('.', 1)[0] + \n",
    "                                 '_' + str(s_cnt) + '.png')\n",
    "        im = Image.fromarray(mel_spec * 255.0).convert(\"L\")\n",
    "        im.save(save_path)\n",
    "        \n",
    "        saved_samples.append(save_path)\n",
    "        s_cnt += 1\n",
    "               \n",
    "    return saved_samples\n",
    "\n",
    "soundscapes = os.listdir('birdclef/train_soundscapes')\n",
    "\n",
    "with tqdm(total=len(soundscapes)) as pbar:\n",
    "    for file in soundscapes:\n",
    "        pbar.update(1)       \n",
    "        audio_file_path = os.path.join(input_soundscapes, file)\n",
    "        get_spectrograms(path + audio_file_path, file, soundscape_output)\n"
   ]
  },
  {
   "cell_type": "code",
   "execution_count": null,
   "id": "504e18a6",
   "metadata": {},
   "outputs": [],
   "source": []
  }
 ],
 "metadata": {
  "kernelspec": {
   "display_name": "Python 3",
   "language": "python",
   "name": "python3"
  },
  "language_info": {
   "codemirror_mode": {
    "name": "ipython",
    "version": 3
   },
   "file_extension": ".py",
   "mimetype": "text/x-python",
   "name": "python",
   "nbconvert_exporter": "python",
   "pygments_lexer": "ipython3",
   "version": "3.8.8"
  }
 },
 "nbformat": 4,
 "nbformat_minor": 5
}
